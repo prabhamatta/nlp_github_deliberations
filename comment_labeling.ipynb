{
 "metadata": {
  "name": "comment_labeling"
 },
 "nbformat": 3,
 "nbformat_minor": 0,
 "worksheets": [
  {
   "cells": [
    {
     "cell_type": "raw",
     "metadata": {},
     "source": [
      "NPS_Chat corpus has been labeled with dialogue acts. There are 10,567 tagged chat conversations and tags are:\n",
      "\n",
      "Emotion\n",
      "ynQuestion\n",
      "yAnswer\n",
      "Continuer\n",
      "whQuestion\n",
      "System\n",
      "Accept\n",
      "Clarify\n",
      "Emphasis\n",
      "nAnswer\n",
      "Greet\n",
      "Statement\n",
      "Reject\n",
      "Bye\n",
      "Other\n",
      "\n",
      "\n",
      "The general idea is to build and test a classifier for chats and then apply this classifier to our github diliberations comment corpus to determine if there is a relationship between comment type and participation in future dicussions.\n",
      "\n",
      "We have decided to try this instead of manually labeling \n",
      "\n",
      "1. Create test, training, and a held out set for the corpus. \n",
      "2. Build naive bayes classifier from nps_chat corpus\n",
      "3. Classify conversations from the github comments\n",
      "\n",
      "------------------------------------------------------------------------\n",
      "Ideas for features:\n",
      "\n",
      "from Charles paper (http://www.collide.info/sites/default/files/Christopher_Charles_Masterarbeit.pdf)\n",
      "- the first 2 words as a bigram\n",
      "- the last token\n",
      "- whether there is a question mark at the end\n",
      "- whether there is an exclamation mark at the end\n",
      "- whether the post's first few tokens contain a token from a list deemed positive (\"yes\",\"alright\",\"sure\",\"cool\")\n",
      "- whether the post's first few tokens contain a token from a list deemed negative (\"no\", \"not\", \"aint\", \"dont\")\n"
     ]
    },
    {
     "cell_type": "code",
     "collapsed": false,
     "input": [
      "import nltk\n",
      "from nltk import corpus"
     ],
     "language": "python",
     "metadata": {},
     "outputs": [],
     "prompt_number": 116
    },
    {
     "cell_type": "raw",
     "metadata": {},
     "source": [
      "There are 10,567 tagged chat conversations in the NPS_chat corpus.\n",
      "The tags include:\n",
      "emotion, ynQuestion, yAnswer, Continuer, whQuestion, System, Accept, Clarify, Emphasis, nAnswer, Greet, Statement, reject, bye, other"
     ]
    },
    {
     "cell_type": "code",
     "collapsed": false,
     "input": [
      "len(nltk.corpus.nps_chat.xml_posts())"
     ],
     "language": "python",
     "metadata": {},
     "outputs": [
      {
       "output_type": "pyout",
       "prompt_number": 117,
       "text": [
        "10567"
       ]
      }
     ],
     "prompt_number": 117
    },
    {
     "cell_type": "code",
     "collapsed": false,
     "input": [
      "posts = nltk.corpus.nps_chat.xml_posts()[:10000]"
     ],
     "language": "python",
     "metadata": {},
     "outputs": [],
     "prompt_number": 118
    },
    {
     "cell_type": "code",
     "collapsed": false,
     "input": [
      "#Look at examples of the tags.\n",
      "\n",
      "#Found that most of the sentences are short and mainly 'chat-speark'\n",
      "\n",
      "for i in posts[0:100]:\n",
      "    if i.get(\"class\") == \"Emotion\":\n",
      "        print i.text, i.get(\"class\")"
     ],
     "language": "python",
     "metadata": {},
     "outputs": [
      {
       "output_type": "stream",
       "stream": "stdout",
       "text": [
        ":P Emotion\n",
        ":) Emotion\n",
        "boo. Emotion\n",
        "lol 10-19-20sUser115 Emotion\n",
        "boo. Emotion\n",
        "boo. Emotion\n",
        "ewwwww lol Emotion\n",
        "heeeey! Emotion\n",
        ":)"
       ]
      },
      {
       "output_type": "stream",
       "stream": "stdout",
       "text": [
        " Emotion\n",
        "haha Emotion\n",
        "opps Emotion\n"
       ]
      }
     ],
     "prompt_number": 160
    },
    {
     "cell_type": "code",
     "collapsed": false,
     "input": [
      "# Simple feature extractor for unigrams\n",
      "def dialogue_act_features(post):\n",
      "    features = {}\n",
      "    for word in nltk.word_tokenize(post):\n",
      "        features['contains(%s)' % word.lower()] = True\n",
      "        \n",
      "    return features"
     ],
     "language": "python",
     "metadata": {},
     "outputs": [],
     "prompt_number": 120
    },
    {
     "cell_type": "code",
     "collapsed": false,
     "input": [
      "# Testing out the classifier. It is .67 accurate\n",
      "featuresets = [(dialogue_act_features(post.text), post.get('class'))\n",
      "                        for post in posts]\n",
      "size = int(len(featuresets) * 0.1)\n",
      "train_set, test_set = featuresets[size:], featuresets[:size]\n",
      "classifier = nltk.NaiveBayesClassifier.train(train_set)\n",
      "print nltk.classify.accuracy(classifier, test_set)"
     ],
     "language": "python",
     "metadata": {},
     "outputs": [
      {
       "output_type": "stream",
       "stream": "stdout",
       "text": [
        "0.67\n"
       ]
      }
     ],
     "prompt_number": 121
    },
    {
     "cell_type": "code",
     "collapsed": false,
     "input": [
      "#Importing comments file and concatenating comments that go to multiple lines\n",
      "import re\n",
      "comments = []\n",
      "f = open('Dropbox/Berkeley/nlp/finalproject/nlp_github_deliberations/issues_conversation_details_all.tsv','r')\n",
      "currentline = 0\n",
      "for line in f:\n",
      "    if re.match('^\\d+\\t\\d+\\th', line):\n",
      "        comments.append(line.split(\"\\t\"))\n",
      "    if not re.match('^\\d+\\t\\d+\\th', line):\n",
      "        comments[currentline][4] += line  \n",
      "f.close()"
     ],
     "language": "python",
     "metadata": {},
     "outputs": [],
     "prompt_number": 122
    },
    {
     "cell_type": "code",
     "collapsed": false,
     "input": [
      "#comments[0]"
     ],
     "language": "python",
     "metadata": {},
     "outputs": [],
     "prompt_number": 131
    },
    {
     "cell_type": "code",
     "collapsed": false,
     "input": [
      "# Classify using the simple unigram classifier\n",
      "f = open('output.csv','w')\n",
      "for comment in comments:\n",
      "    f.write(comment[0] + \", \"+ comment[1] + \", \" + classifier.classify(dialogue_act_features(comment[4])) + '\\n')\n",
      "f.close()"
     ],
     "language": "python",
     "metadata": {},
     "outputs": [],
     "prompt_number": 136
    },
    {
     "cell_type": "code",
     "collapsed": false,
     "input": [],
     "language": "python",
     "metadata": {},
     "outputs": []
    }
   ],
   "metadata": {}
  }
 ]
}